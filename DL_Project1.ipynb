{
 "cells": [
  {
   "cell_type": "code",
   "execution_count": 19,
   "outputs": [],
   "source": [
    "from load_data import *\n",
    "from augumentation import *\n",
    "from tests import *\n",
    "import tensorflow as tf"
   ],
   "metadata": {
    "collapsed": false,
    "ExecuteTime": {
     "end_time": "2024-03-21T22:13:32.268735700Z",
     "start_time": "2024-03-21T22:13:32.258941Z"
    }
   },
   "id": "461bea16ab3a3a25"
  },
  {
   "cell_type": "markdown",
   "source": [
    "## Data loading"
   ],
   "metadata": {
    "collapsed": false
   },
   "id": "bb8f6a2a3ff53dda"
  },
  {
   "cell_type": "code",
   "execution_count": 20,
   "id": "initial_id",
   "metadata": {
    "collapsed": true,
    "ExecuteTime": {
     "end_time": "2024-03-21T22:13:33.730094400Z",
     "start_time": "2024-03-21T22:13:33.730094400Z"
    }
   },
   "outputs": [],
   "source": [
    "# cinic_directory_train = './data/train/'\n",
    "# cinic_directory_test = './archive/test/'\n",
    "# cinic_directory_valid = './archive/valid/'\n",
    "cinic_directory_train = '../data/train/'\n",
    "cinic_directory_test = '../data/test/'\n",
    "cinic_directory_valid = '../data/valid/'"
   ]
  },
  {
   "cell_type": "code",
   "execution_count": 21,
   "outputs": [
    {
     "name": "stdout",
     "output_type": "stream",
     "text": [
      "Found 90000 files belonging to 10 classes.\n",
      "Found 90000 files belonging to 10 classes.\n",
      "Found 90000 files belonging to 10 classes.\n"
     ]
    }
   ],
   "source": [
    "train_ds, valid_ds, test_ds = load_data(\n",
    "    train_path=cinic_directory_train, \n",
    "    valid_path=cinic_directory_valid, \n",
    "    test_path=cinic_directory_test,\n",
    "    label_mode='categorical', \n",
    "    batch_size=16,\n",
    "    image_size=(32, 32)\n",
    ")"
   ],
   "metadata": {
    "collapsed": false,
    "ExecuteTime": {
     "end_time": "2024-03-21T22:13:55.709332900Z",
     "start_time": "2024-03-21T22:13:35.488772900Z"
    }
   },
   "id": "9f4279dccf070c3c"
  },
  {
   "cell_type": "markdown",
   "source": [
    "# Models"
   ],
   "metadata": {
    "collapsed": false
   },
   "id": "71c57b84c9bc458d"
  },
  {
   "cell_type": "markdown",
   "source": [
    "### Efficient Net V2 B0"
   ],
   "metadata": {
    "collapsed": false
   },
   "id": "70484fea01e65fb4"
  },
  {
   "cell_type": "code",
   "execution_count": null,
   "outputs": [],
   "source": [
    "efficientNetV2B0 = tf.keras.applications.efficientnet_v2.EfficientNetV2B0(\n",
    "        input_shape=(224, 224, 3),\n",
    "        include_top=True,\n",
    "        weights='imagenet'\n",
    "    )\n",
    "efficientNetV2B0.trainable = False"
   ],
   "metadata": {
    "collapsed": false
   },
   "id": "5a54fbe205478d67"
  },
  {
   "cell_type": "markdown",
   "source": [
    "# Training hyperparameters"
   ],
   "metadata": {
    "collapsed": false
   },
   "id": "7092b5dc5379cd0a"
  },
  {
   "cell_type": "markdown",
   "source": [
    "## Learning rate"
   ],
   "metadata": {
    "collapsed": false
   },
   "id": "e91feed102eb66a1"
  },
  {
   "cell_type": "code",
   "execution_count": null,
   "outputs": [],
   "source": [
    "learning_rates = [0.1, 0.01, 0.001]\n",
    "for learning_rate in learning_rates:\n",
    "    augumentation = tf.keras.layers.Identity()\n",
    "    optimizer = tf.keras.optimizers.Adam(learning_rate=learning_rate)\n",
    "    run_test(\n",
    "        selected_model=efficientNetV2B0, \n",
    "        train_ds=train_ds, \n",
    "        valid_ds=valid_ds, \n",
    "        test_ds=test_ds, \n",
    "        augumentation=augumentation, \n",
    "        optimizer=optimizer, \n",
    "        batch_size=16, \n",
    "        model_name='efficientNet',\n",
    "        test_name=f'lr_{learning_rate}'\n",
    "    )"
   ],
   "metadata": {
    "collapsed": false
   },
   "id": "71bba5e22db214e"
  },
  {
   "cell_type": "markdown",
   "source": [
    "## Batch size"
   ],
   "metadata": {
    "collapsed": false
   },
   "id": "bd40faf0cc3ddc2"
  },
  {
   "cell_type": "code",
   "execution_count": null,
   "outputs": [],
   "source": [
    "batch_sizes = [16, 32, 64, 128]\n",
    "for batch_size in batch_sizes:\n",
    "    optimizer = tf.keras.optimizers.Adam()\n",
    "    augumentation = tf.keras.layers.Identity()\n",
    "    run_test(\n",
    "        selected_model=efficientNetV2B0, \n",
    "        train_ds=train_ds, \n",
    "        valid_ds=valid_ds, \n",
    "        test_ds=test_ds, \n",
    "        augumentation=augumentation, \n",
    "        optimizer=optimizer, \n",
    "        batch_size=batch_size, \n",
    "        model_name='efficientNet',\n",
    "        test_name=f'batch_size_{batch_size}'\n",
    "    )"
   ],
   "metadata": {
    "collapsed": false
   },
   "id": "b6fb99197205b5d1"
  },
  {
   "cell_type": "markdown",
   "source": [
    "# Augumentation"
   ],
   "metadata": {
    "collapsed": false
   },
   "id": "bdf34971e84a9d2f"
  },
  {
   "cell_type": "markdown",
   "source": [
    "## Random Rotation"
   ],
   "metadata": {
    "collapsed": false
   },
   "id": "ef7fa1be4b4b9df8"
  },
  {
   "cell_type": "code",
   "execution_count": null,
   "outputs": [],
   "source": [
    "rotation_values = [0.1, 0.2, 0.3, 0.4]\n",
    "for rotation_value in rotation_values:\n",
    "    augumentation = tf.keras.layers.RandomRotation(rotation_value)\n",
    "    optimizer = tf.keras.optimizers.Adam()\n",
    "    run_test(\n",
    "        selected_model=efficientNetV2B0, \n",
    "        train_ds=train_ds, \n",
    "        valid_ds=valid_ds, \n",
    "        test_ds=test_ds, \n",
    "        augumentation=augumentation, \n",
    "        optimizer=optimizer, \n",
    "        batch_size=16, \n",
    "        model_name='efficientNet',\n",
    "        test_name=f'random_rotation_{rotation_value}'\n",
    "    )"
   ],
   "metadata": {
    "collapsed": false
   },
   "id": "d13fd76d8f365704"
  },
  {
   "cell_type": "markdown",
   "source": [
    "## Gaussian Noise"
   ],
   "metadata": {
    "collapsed": false
   },
   "id": "5f44a69283f8e434"
  },
  {
   "cell_type": "code",
   "execution_count": null,
   "outputs": [],
   "source": [
    "noise_values = [0.1, 0.2, 0.3, 0.4]\n",
    "for noise_value in noise_values:\n",
    "    augumentation = tf.keras.layers.GaussianNoise(noise_value)\n",
    "    optimizer = tf.keras.optimizers.Adam()\n",
    "    run_test(\n",
    "        selected_model=efficientNetV2B0, \n",
    "        train_ds=train_ds, \n",
    "        valid_ds=valid_ds, \n",
    "        test_ds=test_ds, \n",
    "        augumentation=augumentation, \n",
    "        optimizer=optimizer, \n",
    "        batch_size=16, \n",
    "        model_name='efficientNet',\n",
    "        test_name=f'random_rotation_{noise_value}'\n",
    "    )"
   ],
   "metadata": {
    "collapsed": false
   },
   "id": "f7bcf8fb263dc923"
  },
  {
   "cell_type": "markdown",
   "source": [
    "## Random Flip"
   ],
   "metadata": {
    "collapsed": false
   },
   "id": "2da5e3dc17412521"
  },
  {
   "cell_type": "code",
   "execution_count": null,
   "outputs": [],
   "source": [
    "flip_modes = [\"horizontal\", \"vertical\", \"horizontal_and_vertical\"]\n",
    "for mode in flip_modes:\n",
    "    augumentation = tf.keras.layers.RandomFlip(mode)\n",
    "    optimizer = tf.keras.optimizers.Adam()\n",
    "    run_test(\n",
    "        selected_model=efficientNetV2B0, \n",
    "        train_ds=train_ds, \n",
    "        valid_ds=valid_ds, \n",
    "        test_ds=test_ds, \n",
    "        augumentation=augumentation, \n",
    "        optimizer=optimizer, \n",
    "        batch_size=batch_size, \n",
    "        model_name='efficientNet',\n",
    "        test_name=f'random_flip_{mode}'\n",
    "    )"
   ],
   "metadata": {
    "collapsed": false
   },
   "id": "e3726b7494845f64"
  },
  {
   "cell_type": "markdown",
   "source": [
    "## Mix Up"
   ],
   "metadata": {
    "collapsed": false
   },
   "id": "d21347c219b507ff"
  },
  {
   "cell_type": "code",
   "execution_count": 22,
   "outputs": [],
   "source": [
    "train_zipped = tf.data.Dataset.zip((train_ds, train_ds.shuffle(111)))\n",
    "train_ds_mu = train_zipped.map(\n",
    "    lambda ds_one, ds_two: mix_up(ds_one, ds_two, alpha=0.2),\n",
    "    num_parallel_calls=tf.data.AUTOTUNE,\n",
    ")"
   ],
   "metadata": {
    "collapsed": false,
    "ExecuteTime": {
     "end_time": "2024-03-21T22:13:55.832063100Z",
     "start_time": "2024-03-21T22:13:55.709332900Z"
    }
   },
   "id": "7291042185607317"
  },
  {
   "cell_type": "markdown",
   "source": [
    "Show mixuped images"
   ],
   "metadata": {
    "collapsed": false
   },
   "id": "ce4ca51788854393"
  },
  {
   "cell_type": "code",
   "execution_count": 23,
   "outputs": [
    {
     "name": "stderr",
     "output_type": "stream",
     "text": [
      "Clipping input data to the valid range for imshow with RGB data ([0..1] for floats or [0..255] for integers).\n",
      "Clipping input data to the valid range for imshow with RGB data ([0..1] for floats or [0..255] for integers).\n"
     ]
    },
    {
     "name": "stdout",
     "output_type": "stream",
     "text": [
      "tf.Tensor(\n",
      "[0.         0.         0.         0.         0.         0.00276214\n",
      " 0.         0.         0.99723786 0.        ], shape=(10,), dtype=float32)\n",
      "tf.Tensor(\n",
      "[0.         0.         0.         0.01033813 0.         0.\n",
      " 0.9896619  0.         0.         0.        ], shape=(10,), dtype=float32)\n",
      "tf.Tensor([0. 0. 0. 0. 1. 0. 0. 0. 0. 0.], shape=(10,), dtype=float32)\n"
     ]
    },
    {
     "data": {
      "text/plain": "<Figure size 1000x1000 with 3 Axes>",
      "image/png": "[encoded data removed]"
     },
     "metadata": {},
     "output_type": "display_data"
    }
   ],
   "source": [
    "sample_images, sample_labels = next(iter(train_ds_mu))\n",
    "\n",
    "plt.figure(figsize=(10, 10))\n",
    "for i, (image, label) in enumerate(zip(sample_images[:3], sample_labels[:3])):\n",
    "    ax = plt.subplot(1, 3, i + 1)\n",
    "    plt.imshow(sample_images[i].numpy().squeeze()/225.)\n",
    "    print(sample_labels[i])"
   ],
   "metadata": {
    "collapsed": false,
    "ExecuteTime": {
     "end_time": "2024-03-21T22:13:56.929109700Z",
     "start_time": "2024-03-21T22:13:55.832063100Z"
    }
   },
   "id": "330763dd9660b13b"
  },
  {
   "cell_type": "code",
   "execution_count": null,
   "outputs": [],
   "source": [
    "augumentation = tf.keras.layers.Identity()\n",
    "optimizer = tf.keras.optimizers.Adam()\n",
    "run_test(\n",
    "    selected_model=efficientNetV2B0, \n",
    "    train_ds=train_ds_mu, \n",
    "    valid_ds=valid_ds, \n",
    "    test_ds=test_ds, \n",
    "    augumentation=augumentation, \n",
    "    optimizer=optimizer, \n",
    "    batch_size=batch_size, \n",
    "    model_name='efficientNet',\n",
    "    test_name=f'mix_up_0.2'\n",
    ")"
   ],
   "metadata": {
    "collapsed": false
   },
   "id": "ad6412c6824d2655"
  }
 ],
 "metadata": {
  "kernelspec": {
   "display_name": "Python 3",
   "language": "python",
   "name": "python3"
  },
  "language_info": {
   "codemirror_mode": {
    "name": "ipython",
    "version": 2
   },
   "file_extension": ".py",
   "mimetype": "text/x-python",
   "name": "python",
   "nbconvert_exporter": "python",
   "pygments_lexer": "ipython2",
   "version": "2.7.6"
  }
 },
 "nbformat": 4,
 "nbformat_minor": 5
}
