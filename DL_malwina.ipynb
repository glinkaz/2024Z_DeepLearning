{
 "cells": [
  {
   "cell_type": "code",
   "execution_count": 24,
   "outputs": [],
   "source": [
    "# from utils import *\n",
    "import torchvision\n",
    "import torchvision.transforms as transforms\n",
    "import tensorflow as tf\n",
    "import numpy as np\n",
    "import datetime\n",
    "# import tensorflow_datasets as tfds\n",
    "import tensorflow as tf  # For tf.data\n",
    "import matplotlib.pyplot as plt\n",
    "import keras\n",
    "from keras import layers\n",
    "from keras.applications import EfficientNetB0\n",
    "from tensorflow import keras\n",
    "import matplotlib.pyplot as plt\n",
    "# %matplotlib inline\n",
    "import numpy as np\n",
    "import seaborn as sn\n",
    "import pathlib\n",
    "import os\n",
    "from os import listdir\n",
    "import glob\n",
    "from PIL import Image\n",
    "from sklearn.model_selection import train_test_split\n",
    "from tensorflow.keras.layers import RandomFlip, RandomRotation\n",
    "from keras.applications import efficientnet, mobilenet_v3\n",
    "from keras.applications import MobileNetV2\n",
    "import tensorflow.keras.layers as tfl\n",
    "tf.config.run_functions_eagerly(True)"
   ],
   "metadata": {
    "collapsed": false,
    "ExecuteTime": {
     "end_time": "2024-03-17T08:36:59.805720700Z",
     "start_time": "2024-03-17T08:36:59.798000200Z"
    }
   },
   "id": "262d816cac82cbbf"
  },
  {
   "cell_type": "markdown",
   "source": [
    "# Do przeniesienia"
   ],
   "metadata": {
    "collapsed": false
   },
   "id": "fb1c6bda45a2e40b"
  },
  {
   "cell_type": "code",
   "execution_count": 2,
   "outputs": [],
   "source": [
    "from tensorflow import keras\n",
    "from typing import Tuple\n",
    "\n",
    "def load_set(path: str, label_mode: str = 'binary', batch_size: int = 16,\n",
    "             image_size: Tuple[int, int] = (32, 32), val_split: float = 0.3, subset: str = 'training'):\n",
    "    return keras.preprocessing.image_dataset_from_directory(\n",
    "        path,\n",
    "        labels='inferred',\n",
    "        label_mode=label_mode,\n",
    "        batch_size=batch_size,\n",
    "        image_size=image_size,\n",
    "        validation_split=val_split,\n",
    "        subset=subset,\n",
    "        shuffle=True,\n",
    "        seed=1111,\n",
    "    )\n",
    "\n",
    "\n",
    "def load_datasets(train_path: str, valid_path: str, label_mode: str = 'binary', batch_size: int = 16,\n",
    "                  image_size: Tuple[int, int] = (32, 32), val_split: float = 0.3):\n",
    "    train_ds = keras.preprocessing.image_dataset_from_directory(\n",
    "        train_path,\n",
    "        labels='inferred',\n",
    "        label_mode=label_mode,\n",
    "        batch_size=batch_size,\n",
    "        image_size=image_size,\n",
    "        shuffle=True,\n",
    "        seed=1111\n",
    "    )\n",
    "    valid_to_train = load_set(valid_path, label_mode, batch_size, image_size, val_split, subset='training')\n",
    "    valid_ds = load_set(valid_path, label_mode, batch_size, image_size, val_split, subset='validation')\n",
    "    train_ds = train_ds.concatenate(valid_to_train)\n",
    "    return train_ds, valid_ds"
   ],
   "metadata": {
    "collapsed": false,
    "ExecuteTime": {
     "end_time": "2024-03-17T08:13:55.562132500Z",
     "start_time": "2024-03-17T08:13:55.549498100Z"
    }
   },
   "id": "c6a0da5d91ac6f94"
  },
  {
   "cell_type": "markdown",
   "source": [
    "# Load data"
   ],
   "metadata": {
    "collapsed": false
   },
   "id": "b0ac395b8a1a0391"
  },
  {
   "cell_type": "code",
   "execution_count": 3,
   "outputs": [],
   "source": [
    "# Zuzia\n",
    "# cinic_directory_train = './archive/train/'\n",
    "# cinic_directory_test = './archive/test/'\n",
    "# cinic_directory_valid = './archive/valid/'\n",
    "\n",
    "#Malwina\n",
    "cinic_directory_train = '../data/train/'\n",
    "cinic_directory_test = '../data/test/'\n",
    "cinic_directory_valid = '../data/valid/'\n",
    "batch_size = 16"
   ],
   "metadata": {
    "collapsed": false,
    "ExecuteTime": {
     "end_time": "2024-03-17T08:13:55.569728500Z",
     "start_time": "2024-03-17T08:13:55.556586Z"
    }
   },
   "id": "910872bed6b882c4"
  },
  {
   "cell_type": "code",
   "execution_count": 22,
   "outputs": [
    {
     "name": "stdout",
     "output_type": "stream",
     "text": [
      "Found 90000 files belonging to 10 classes.\n",
      "Found 54399 files belonging to 7 classes.\n",
      "Using 38080 files for training.\n",
      "Found 54399 files belonging to 7 classes.\n",
      "Using 16319 files for validation.\n"
     ]
    }
   ],
   "source": [
    "train_ds, valid_ds = load_datasets(\n",
    "    train_path=cinic_directory_train, \n",
    "    valid_path=cinic_directory_valid, \n",
    "    label_mode='categorical', \n",
    "    batch_size=batch_size,\n",
    "    image_size=(224, 224), \n",
    "    val_split=0.3\n",
    ")"
   ],
   "metadata": {
    "collapsed": false,
    "ExecuteTime": {
     "end_time": "2024-03-17T08:34:41.068677500Z",
     "start_time": "2024-03-17T08:34:22.903358600Z"
    }
   },
   "id": "f17442ddd5483907"
  },
  {
   "cell_type": "markdown",
   "source": [
    "# MobileNet"
   ],
   "metadata": {
    "collapsed": false
   },
   "id": "dcf9ce7692ebd9a"
  },
  {
   "cell_type": "code",
   "execution_count": 18,
   "outputs": [],
   "source": [
    "mobilenetv2 = tf.keras.applications.MobileNetV2(\n",
    "    input_shape=(224, 224, 3),\n",
    "    include_top=True,\n",
    "    weights='imagenet'\n",
    ")"
   ],
   "metadata": {
    "collapsed": false,
    "ExecuteTime": {
     "end_time": "2024-03-16T18:56:08.777897Z",
     "start_time": "2024-03-16T18:56:07.375571700Z"
    }
   },
   "id": "26ea64986f0006a8"
  },
  {
   "cell_type": "code",
   "execution_count": 19,
   "outputs": [],
   "source": [
    "mobilenetv2.trainable = False"
   ],
   "metadata": {
    "collapsed": false,
    "ExecuteTime": {
     "end_time": "2024-03-16T18:56:20.510428700Z",
     "start_time": "2024-03-16T18:56:20.478963600Z"
    }
   },
   "id": "42803b744ef11b23"
  },
  {
   "cell_type": "code",
   "execution_count": 34,
   "outputs": [],
   "source": [
    "model = tf.keras.Sequential([\n",
    "  mobilenetv2,\n",
    "  # tf.keras.layers.Conv2D(128, 3, activation='relu'),\n",
    "  # tf.keras.layers.Dropout(0.2),\n",
    "  # tf.keras.layers.GlobalAveragePooling2D(),\n",
    "  tf.keras.layers.Dense(6, activation='softmax')\n",
    "])"
   ],
   "metadata": {
    "collapsed": false,
    "ExecuteTime": {
     "end_time": "2024-03-16T19:22:23.404399500Z",
     "start_time": "2024-03-16T19:22:23.397833600Z"
    }
   },
   "id": "4c6d48f1089d4451"
  },
  {
   "cell_type": "code",
   "execution_count": 35,
   "outputs": [],
   "source": [
    "model.compile(optimizer=tf.keras.optimizers.RMSprop(learning_rate=0.0001), #Adam(), \n",
    "              loss='categorical_crossentropy', \n",
    "              metrics=['accuracy'])"
   ],
   "metadata": {
    "collapsed": false,
    "ExecuteTime": {
     "end_time": "2024-03-16T19:22:24.228472200Z",
     "start_time": "2024-03-16T19:22:24.214621100Z"
    }
   },
   "id": "bbc664b8283bf18a"
  },
  {
   "cell_type": "code",
   "execution_count": 36,
   "outputs": [],
   "source": [
    "# epochs = 10\n",
    "# steps_per_epoch = train_ds.n // batch_size\n",
    "# validation_steps = valid_ds.n // batch_size"
   ],
   "metadata": {
    "collapsed": false,
    "ExecuteTime": {
     "end_time": "2024-03-16T19:22:25.009786300Z",
     "start_time": "2024-03-16T19:22:24.999347300Z"
    }
   },
   "id": "cf26e9592f34fb07"
  },
  {
   "cell_type": "code",
   "execution_count": 37,
   "outputs": [
    {
     "ename": "AttributeError",
     "evalue": "'Sequential' object has no attribute 'fit_generator'",
     "output_type": "error",
     "traceback": [
      "\u001B[1;31m---------------------------------------------------------------------------\u001B[0m",
      "\u001B[1;31mAttributeError\u001B[0m                            Traceback (most recent call last)",
      "Cell \u001B[1;32mIn[37], line 1\u001B[0m\n\u001B[1;32m----> 1\u001B[0m history \u001B[38;5;241m=\u001B[39m \u001B[43mmodel\u001B[49m\u001B[38;5;241;43m.\u001B[39;49m\u001B[43mfit_generator\u001B[49m(train_ds, \n\u001B[0;32m      2\u001B[0m                               steps_per_epoch \u001B[38;5;241m=\u001B[39m \u001B[38;5;241m956\u001B[39m,\n\u001B[0;32m      3\u001B[0m                               epochs\u001B[38;5;241m=\u001B[39m\u001B[38;5;241m10\u001B[39m, \n\u001B[0;32m      4\u001B[0m                               workers\u001B[38;5;241m=\u001B[39m\u001B[38;5;241m4\u001B[39m,\n\u001B[0;32m      5\u001B[0m                               validation_data\u001B[38;5;241m=\u001B[39mvalid_ds, \n\u001B[0;32m      6\u001B[0m                               validation_steps\u001B[38;5;241m=\u001B[39m\u001B[38;5;241m168\u001B[39m)\n",
      "\u001B[1;31mAttributeError\u001B[0m: 'Sequential' object has no attribute 'fit_generator'"
     ]
    }
   ],
   "source": [
    "history = model.fit(train_ds, \n",
    "                              steps_per_epoch = 956,\n",
    "                              epochs=10, \n",
    "                              workers=4,\n",
    "                              validation_data=valid_ds, \n",
    "                              validation_steps=168)"
   ],
   "metadata": {
    "collapsed": false,
    "ExecuteTime": {
     "end_time": "2024-03-16T19:22:25.594370800Z",
     "start_time": "2024-03-16T19:22:25.559157100Z"
    }
   },
   "id": "c1d2415ef846b7da"
  },
  {
   "cell_type": "markdown",
   "source": [
    "# EfficientNet"
   ],
   "metadata": {
    "collapsed": false
   },
   "id": "f2f987bc26e9c976"
  },
  {
   "cell_type": "code",
   "outputs": [],
   "source": [
    "inputs = layers.Input(shape=(224, 224, 3))"
   ],
   "metadata": {
    "collapsed": false,
    "ExecuteTime": {
     "end_time": "2024-03-17T08:29:59.492982400Z",
     "start_time": "2024-03-17T08:29:59.482995400Z"
    }
   },
   "id": "5e0ea63a022df656",
   "execution_count": 12
  },
  {
   "cell_type": "code",
   "outputs": [],
   "source": [
    "efficientnet = tf.keras.applications.efficientnet_v2.EfficientNetV2B0(\n",
    "    include_top=False,\n",
    "    weights='imagenet',\n",
    "    input_tensor=inputs,\n",
    "    classes=10,\n",
    ")"
   ],
   "metadata": {
    "collapsed": false,
    "ExecuteTime": {
     "end_time": "2024-03-17T08:30:00.579758Z",
     "start_time": "2024-03-17T08:29:59.807325700Z"
    }
   },
   "id": "ac774167119fb84e",
   "execution_count": 13
  },
  {
   "cell_type": "code",
   "outputs": [],
   "source": [
    "efficientnet.trainable = False"
   ],
   "metadata": {
    "collapsed": false,
    "ExecuteTime": {
     "end_time": "2024-03-17T08:30:01.557040500Z",
     "start_time": "2024-03-17T08:30:01.538822500Z"
    }
   },
   "id": "fe683ecfd3ea046e",
   "execution_count": 14
  },
  {
   "cell_type": "code",
   "outputs": [],
   "source": [
    "x = layers.GlobalAveragePooling2D(name=\"avg_pool\")(efficientnet.output)\n",
    "x = layers.BatchNormalization()(x)\n",
    "top_dropout_rate = 0.2\n",
    "x = layers.Dropout(top_dropout_rate, name=\"top_dropout\")(x)\n",
    "outputs = layers.Dense(10, activation=\"softmax\", name=\"pred\")(x)"
   ],
   "metadata": {
    "collapsed": false,
    "ExecuteTime": {
     "end_time": "2024-03-17T08:30:02.045265800Z",
     "start_time": "2024-03-17T08:30:02.007790300Z"
    }
   },
   "id": "65910e60ba4ff672",
   "execution_count": 15
  },
  {
   "cell_type": "code",
   "outputs": [],
   "source": [
    "model = keras.Model(inputs, outputs, name=\"EfficientNet\")"
   ],
   "metadata": {
    "collapsed": false,
    "ExecuteTime": {
     "end_time": "2024-03-17T08:30:26.967293800Z",
     "start_time": "2024-03-17T08:30:26.938084600Z"
    }
   },
   "id": "53a73eaafd307a09",
   "execution_count": 16
  },
  {
   "cell_type": "code",
   "outputs": [],
   "source": [
    "optimizer = keras.optimizers.Adam(learning_rate=0.01)\n",
    "model.compile(\n",
    "    optimizer=optimizer, loss=\"categorical_crossentropy\", metrics=[\"accuracy\"]\n",
    ")"
   ],
   "metadata": {
    "collapsed": false,
    "ExecuteTime": {
     "end_time": "2024-03-17T08:31:06.089658800Z",
     "start_time": "2024-03-17T08:31:06.076756600Z"
    }
   },
   "id": "cd933589c96bf2f5",
   "execution_count": 17
  },
  {
   "cell_type": "code",
   "outputs": [],
   "source": [
    "log_dir = \"logs/fit/\" + datetime.datetime.now().strftime(\"%Y%m%d-%H%M%S\")\n",
    "tensorboard_callback = tf.keras.callbacks.TensorBoard(log_dir=log_dir, histogram_freq=1)"
   ],
   "metadata": {
    "collapsed": false,
    "ExecuteTime": {
     "end_time": "2024-03-17T08:31:39.284964800Z",
     "start_time": "2024-03-17T08:31:39.254750300Z"
    }
   },
   "id": "9c457a9a2292aff6",
   "execution_count": 19
  },
  {
   "cell_type": "code",
   "outputs": [],
   "source": [
    "import matplotlib.pyplot as plt\n",
    "\n",
    "\n",
    "def plot_hist(hist):\n",
    "    plt.plot(hist.history[\"accuracy\"])\n",
    "    plt.plot(hist.history[\"val_accuracy\"])\n",
    "    plt.title(\"model accuracy\")\n",
    "    plt.ylabel(\"accuracy\")\n",
    "    plt.xlabel(\"epoch\")\n",
    "    plt.legend([\"train\", \"validation\"], loc=\"upper left\")\n",
    "    plt.show()"
   ],
   "metadata": {
    "collapsed": false,
    "ExecuteTime": {
     "end_time": "2024-03-17T08:33:34.266130500Z",
     "start_time": "2024-03-17T08:33:34.250868900Z"
    }
   },
   "id": "30e23e65a40e1142",
   "execution_count": 20
  },
  {
   "cell_type": "code",
   "outputs": [
    {
     "name": "stdout",
     "output_type": "stream",
     "text": [
      "Epoch 1/5\n"
     ]
    },
    {
     "ename": "InvalidArgumentError",
     "evalue": "{{function_node __wrapped__Sub_device_/job:localhost/replica:0/task:0/device:CPU:0}} Incompatible shapes: [1280] vs. [0] [Op:Sub] name: ",
     "output_type": "error",
     "traceback": [
      "\u001B[1;31m---------------------------------------------------------------------------\u001B[0m",
      "\u001B[1;31mInvalidArgumentError\u001B[0m                      Traceback (most recent call last)",
      "Cell \u001B[1;32mIn[25], line 2\u001B[0m\n\u001B[0;32m      1\u001B[0m epochs \u001B[38;5;241m=\u001B[39m \u001B[38;5;241m5\u001B[39m  \u001B[38;5;66;03m# @param {type: \"slider\", min:8, max:80}\u001B[39;00m\n\u001B[1;32m----> 2\u001B[0m hist \u001B[38;5;241m=\u001B[39m \u001B[43mmodel\u001B[49m\u001B[38;5;241;43m.\u001B[39;49m\u001B[43mfit\u001B[49m\u001B[43m(\u001B[49m\u001B[43mtrain_ds\u001B[49m\u001B[43m,\u001B[49m\u001B[43m \u001B[49m\u001B[43mepochs\u001B[49m\u001B[38;5;241;43m=\u001B[39;49m\u001B[43mepochs\u001B[49m\u001B[43m,\u001B[49m\u001B[43m \u001B[49m\u001B[43mvalidation_data\u001B[49m\u001B[38;5;241;43m=\u001B[39;49m\u001B[43mvalid_ds\u001B[49m\u001B[43m)\u001B[49m\n\u001B[0;32m      3\u001B[0m plot_hist(hist)\n",
      "File \u001B[1;32m~\\Documents\\moje\\.venv\\Lib\\site-packages\\keras\\src\\utils\\traceback_utils.py:123\u001B[0m, in \u001B[0;36mfilter_traceback.<locals>.error_handler\u001B[1;34m(*args, **kwargs)\u001B[0m\n\u001B[0;32m    120\u001B[0m     filtered_tb \u001B[38;5;241m=\u001B[39m _process_traceback_frames(e\u001B[38;5;241m.\u001B[39m__traceback__)\n\u001B[0;32m    121\u001B[0m     \u001B[38;5;66;03m# To get the full stack trace, call:\u001B[39;00m\n\u001B[0;32m    122\u001B[0m     \u001B[38;5;66;03m# `keras.config.disable_traceback_filtering()`\u001B[39;00m\n\u001B[1;32m--> 123\u001B[0m     \u001B[38;5;28;01mraise\u001B[39;00m e\u001B[38;5;241m.\u001B[39mwith_traceback(filtered_tb) \u001B[38;5;28;01mfrom\u001B[39;00m \u001B[38;5;28;01mNone\u001B[39;00m\n\u001B[0;32m    124\u001B[0m \u001B[38;5;28;01mfinally\u001B[39;00m:\n\u001B[0;32m    125\u001B[0m     \u001B[38;5;28;01mdel\u001B[39;00m filtered_tb\n",
      "File \u001B[1;32m~\\Documents\\moje\\.venv\\Lib\\site-packages\\keras\\src\\backend\\tensorflow\\numpy.py:108\u001B[0m, in \u001B[0;36msubtract\u001B[1;34m(x1, x2)\u001B[0m\n\u001B[0;32m    106\u001B[0m x1 \u001B[38;5;241m=\u001B[39m convert_to_tensor(x1, dtype)\n\u001B[0;32m    107\u001B[0m x2 \u001B[38;5;241m=\u001B[39m convert_to_tensor(x2, dtype)\n\u001B[1;32m--> 108\u001B[0m \u001B[38;5;28;01mreturn\u001B[39;00m \u001B[43mtf\u001B[49m\u001B[38;5;241;43m.\u001B[39;49m\u001B[43msubtract\u001B[49m\u001B[43m(\u001B[49m\u001B[43mx1\u001B[49m\u001B[43m,\u001B[49m\u001B[43m \u001B[49m\u001B[43mx2\u001B[49m\u001B[43m)\u001B[49m\n",
      "\u001B[1;31mInvalidArgumentError\u001B[0m: {{function_node __wrapped__Sub_device_/job:localhost/replica:0/task:0/device:CPU:0}} Incompatible shapes: [1280] vs. [0] [Op:Sub] name: "
     ]
    }
   ],
   "source": [
    "epochs = 5  # @param {type: \"slider\", min:8, max:80}\n",
    "hist = model.fit(train_ds, epochs=epochs, validation_data=valid_ds)\n",
    "plot_hist(hist)"
   ],
   "metadata": {
    "collapsed": false,
    "ExecuteTime": {
     "end_time": "2024-03-17T08:37:18.357638Z",
     "start_time": "2024-03-17T08:37:12.733546200Z"
    }
   },
   "id": "65eddcf87c1d842b",
   "execution_count": 25
  },
  {
   "cell_type": "code",
   "outputs": [
    {
     "name": "stderr",
     "output_type": "stream",
     "text": [
      "UsageError: Line magic function `%tensorboard` not found.\n"
     ]
    }
   ],
   "source": [
    "%tensorboard --logdir logs/fit"
   ],
   "metadata": {
    "collapsed": false,
    "ExecuteTime": {
     "end_time": "2024-03-17T08:37:28.171990Z",
     "start_time": "2024-03-17T08:37:28.157914400Z"
    }
   },
   "id": "fc77e7a1702c7459",
   "execution_count": 26
  },
  {
   "cell_type": "markdown",
   "source": [
    "# Efficient 2"
   ],
   "metadata": {
    "collapsed": false
   },
   "id": "b17845cb3c8132a3"
  },
  {
   "cell_type": "code",
   "outputs": [],
   "source": [
    "efficientnet = tf.keras.applications.efficientnet_v2.EfficientNetV2B0(\n",
    "    include_top=False,\n",
    "    weights='imagenet',\n",
    "    input_shape=(224, 224, 3)\n",
    ")"
   ],
   "metadata": {
    "collapsed": false,
    "ExecuteTime": {
     "end_time": "2024-03-17T08:39:20.421928600Z",
     "start_time": "2024-03-17T08:39:19.441068800Z"
    }
   },
   "id": "28865a93b4453499",
   "execution_count": 27
  },
  {
   "cell_type": "code",
   "outputs": [],
   "source": [
    "efficientnet.trainable = False"
   ],
   "metadata": {
    "collapsed": false,
    "ExecuteTime": {
     "end_time": "2024-03-17T08:39:37.345926200Z",
     "start_time": "2024-03-17T08:39:37.331835300Z"
    }
   },
   "id": "87b12791edfaf4cc",
   "execution_count": 28
  },
  {
   "cell_type": "code",
   "outputs": [],
   "source": [
    "model_efficientnet = tf.keras.Sequential([\n",
    "    efficientnet,\n",
    "    tf.keras.layers.GlobalAveragePooling2D(),\n",
    "    tf.keras.layers.Dense(10, activation='softmax')\n",
    "])"
   ],
   "metadata": {
    "collapsed": false,
    "ExecuteTime": {
     "end_time": "2024-03-17T08:40:44.677683700Z",
     "start_time": "2024-03-17T08:40:44.672219500Z"
    }
   },
   "id": "7a843f4e394462ef",
   "execution_count": 30
  },
  {
   "cell_type": "code",
   "outputs": [],
   "source": [
    "model_efficientnet.compile(optimizer=tf.keras.optimizers.RMSprop(learning_rate=0.01), #Adam(), \n",
    "              loss='categorical_crossentropy', \n",
    "              metrics=['accuracy'])"
   ],
   "metadata": {
    "collapsed": false,
    "ExecuteTime": {
     "end_time": "2024-03-17T08:44:29.324683700Z",
     "start_time": "2024-03-17T08:44:29.310862300Z"
    }
   },
   "id": "36045de29575e411",
   "execution_count": 33
  },
  {
   "cell_type": "code",
   "outputs": [
    {
     "name": "stdout",
     "output_type": "stream",
     "text": [
      "Epoch 1/5\n",
      "\u001B[1m 871/8005\u001B[0m \u001B[32m━━\u001B[0m\u001B[37m━━━━━━━━━━━━━━━━━━\u001B[0m \u001B[1m12:53:25\u001B[0m 7s/step - accuracy: 0.6855 - loss: 1.0771"
     ]
    }
   ],
   "source": [
    "history = model_efficientnet.fit(train_ds, \n",
    "      epochs=5, \n",
    "      validation_data=valid_ds)"
   ],
   "metadata": {
    "collapsed": false,
    "is_executing": true,
    "ExecuteTime": {
     "start_time": "2024-03-17T08:44:30.691305500Z"
    }
   },
   "id": "13634af6581e4aa",
   "execution_count": null
  },
  {
   "cell_type": "code",
   "outputs": [],
   "source": [],
   "metadata": {
    "collapsed": false
   },
   "id": "d70874e2119da38"
  }
 ],
 "metadata": {
  "kernelspec": {
   "display_name": "Python 3",
   "language": "python",
   "name": "python3"
  },
  "language_info": {
   "codemirror_mode": {
    "name": "ipython",
    "version": 2
   },
   "file_extension": ".py",
   "mimetype": "text/x-python",
   "name": "python",
   "nbconvert_exporter": "python",
   "pygments_lexer": "ipython2",
   "version": "2.7.6"
  }
 },
 "nbformat": 4,
 "nbformat_minor": 5
}
