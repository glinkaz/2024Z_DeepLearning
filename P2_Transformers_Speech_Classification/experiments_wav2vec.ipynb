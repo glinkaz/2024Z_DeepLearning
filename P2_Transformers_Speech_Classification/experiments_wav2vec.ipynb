{
 "cells": [
  {
   "cell_type": "code",
   "execution_count": 3,
   "id": "a49ef52502a53f05",
   "metadata": {
    "collapsed": false,
    "ExecuteTime": {
     "end_time": "2024-04-29T08:41:30.250334800Z",
     "start_time": "2024-04-29T08:41:03.238516300Z"
    }
   },
   "outputs": [],
   "source": [
    "import os\n",
    "import csv\n",
    "import torch\n",
    "import librosa\n",
    "from transformers import Wav2Vec2Processor, Wav2Vec2ForCTC\n",
    "import torch\n",
    "import shutil\n",
    "from jiwer import wer, cer\n",
    "from datasets import Dataset\n",
    "from dataclasses import dataclass, field\n",
    "from typing import Any, Dict, List, Optional, Union\n",
    "from transformers import TrainingArguments, Trainer\n",
    "import transformers\n",
    "from transformers import Wav2Vec2ForCTC, Wav2Vec2Processor, Trainer, TrainingArguments\n",
    "\n",
    "from P2_Transformers_Speech_Classification.visualizations import vis_accuracy_cer, vis_silence_detection_accuracy\n",
    "from create_datasets import create_silence_detection_list, create_dataset, \\\n",
    "    train_test_split_silence_detection, create_dataset_silence_classification\n",
    "from project_2 import *\n",
    "from transformers import TrainerCallback, TrainerControl"
   ]
  },
  {
   "cell_type": "code",
   "execution_count": 4,
   "id": "6cbe85f0bb0429d2",
   "metadata": {
    "collapsed": false,
    "ExecuteTime": {
     "end_time": "2024-04-29T08:41:30.268371300Z",
     "start_time": "2024-04-29T08:41:30.251687600Z"
    }
   },
   "outputs": [
    {
     "data": {
      "text/plain": "'C:\\\\Users\\\\wojew\\\\Documents\\\\DS\\\\sem1\\\\Deep Learning\\\\CINIC10_Proj1\\\\P2_Transformers_Speech_Classification'"
     },
     "execution_count": 4,
     "metadata": {},
     "output_type": "execute_result"
    }
   ],
   "source": [
    "os.getcwd()"
   ]
  },
  {
   "cell_type": "markdown",
   "id": "56bcbc341507e7d1",
   "metadata": {
    "collapsed": false
   },
   "source": [
    "# Load model"
   ]
  },
  {
   "cell_type": "code",
   "execution_count": 2,
   "id": "233129aeddac244f",
   "metadata": {
    "ExecuteTime": {
     "end_time": "2024-04-28T16:42:59.115060600Z",
     "start_time": "2024-04-28T16:42:51.827071800Z"
    },
    "collapsed": false
   },
   "outputs": [
    {
     "name": "stderr",
     "output_type": "stream",
     "text": [
      "Some weights of the model checkpoint at facebook/wav2vec2-base-960h were not used when initializing Wav2Vec2ForCTC: ['wav2vec2.encoder.pos_conv_embed.conv.weight_g', 'wav2vec2.encoder.pos_conv_embed.conv.weight_v']\n",
      "- This IS expected if you are initializing Wav2Vec2ForCTC from the checkpoint of a model trained on another task or with another architecture (e.g. initializing a BertForSequenceClassification model from a BertForPreTraining model).\n",
      "- This IS NOT expected if you are initializing Wav2Vec2ForCTC from the checkpoint of a model that you expect to be exactly identical (initializing a BertForSequenceClassification model from a BertForSequenceClassification model).\n",
      "Some weights of Wav2Vec2ForCTC were not initialized from the model checkpoint at facebook/wav2vec2-base-960h and are newly initialized: ['wav2vec2.encoder.pos_conv_embed.conv.parametrizations.weight.original0', 'wav2vec2.encoder.pos_conv_embed.conv.parametrizations.weight.original1', 'wav2vec2.masked_spec_embed']\n",
      "You should probably TRAIN this model on a down-stream task to be able to use it for predictions and inference.\n"
     ]
    },
    {
     "data": {
      "text/plain": [
       "Wav2Vec2ForCTC(\n",
       "  (wav2vec2): Wav2Vec2Model(\n",
       "    (feature_extractor): Wav2Vec2FeatureEncoder(\n",
       "      (conv_layers): ModuleList(\n",
       "        (0): Wav2Vec2GroupNormConvLayer(\n",
       "          (conv): Conv1d(1, 512, kernel_size=(10,), stride=(5,), bias=False)\n",
       "          (activation): GELUActivation()\n",
       "          (layer_norm): GroupNorm(512, 512, eps=1e-05, affine=True)\n",
       "        )\n",
       "        (1-4): 4 x Wav2Vec2NoLayerNormConvLayer(\n",
       "          (conv): Conv1d(512, 512, kernel_size=(3,), stride=(2,), bias=False)\n",
       "          (activation): GELUActivation()\n",
       "        )\n",
       "        (5-6): 2 x Wav2Vec2NoLayerNormConvLayer(\n",
       "          (conv): Conv1d(512, 512, kernel_size=(2,), stride=(2,), bias=False)\n",
       "          (activation): GELUActivation()\n",
       "        )\n",
       "      )\n",
       "    )\n",
       "    (feature_projection): Wav2Vec2FeatureProjection(\n",
       "      (layer_norm): LayerNorm((512,), eps=1e-05, elementwise_affine=True)\n",
       "      (projection): Linear(in_features=512, out_features=768, bias=True)\n",
       "      (dropout): Dropout(p=0.1, inplace=False)\n",
       "    )\n",
       "    (encoder): Wav2Vec2Encoder(\n",
       "      (pos_conv_embed): Wav2Vec2PositionalConvEmbedding(\n",
       "        (conv): ParametrizedConv1d(\n",
       "          768, 768, kernel_size=(128,), stride=(1,), padding=(64,), groups=16\n",
       "          (parametrizations): ModuleDict(\n",
       "            (weight): ParametrizationList(\n",
       "              (0): _WeightNorm()\n",
       "            )\n",
       "          )\n",
       "        )\n",
       "        (padding): Wav2Vec2SamePadLayer()\n",
       "        (activation): GELUActivation()\n",
       "      )\n",
       "      (layer_norm): LayerNorm((768,), eps=1e-05, elementwise_affine=True)\n",
       "      (dropout): Dropout(p=0.1, inplace=False)\n",
       "      (layers): ModuleList(\n",
       "        (0-11): 12 x Wav2Vec2EncoderLayer(\n",
       "          (attention): Wav2Vec2Attention(\n",
       "            (k_proj): Linear(in_features=768, out_features=768, bias=True)\n",
       "            (v_proj): Linear(in_features=768, out_features=768, bias=True)\n",
       "            (q_proj): Linear(in_features=768, out_features=768, bias=True)\n",
       "            (out_proj): Linear(in_features=768, out_features=768, bias=True)\n",
       "          )\n",
       "          (dropout): Dropout(p=0.1, inplace=False)\n",
       "          (layer_norm): LayerNorm((768,), eps=1e-05, elementwise_affine=True)\n",
       "          (feed_forward): Wav2Vec2FeedForward(\n",
       "            (intermediate_dropout): Dropout(p=0.1, inplace=False)\n",
       "            (intermediate_dense): Linear(in_features=768, out_features=3072, bias=True)\n",
       "            (intermediate_act_fn): GELUActivation()\n",
       "            (output_dense): Linear(in_features=3072, out_features=768, bias=True)\n",
       "            (output_dropout): Dropout(p=0.1, inplace=False)\n",
       "          )\n",
       "          (final_layer_norm): LayerNorm((768,), eps=1e-05, elementwise_affine=True)\n",
       "        )\n",
       "      )\n",
       "    )\n",
       "  )\n",
       "  (dropout): Dropout(p=0.1, inplace=False)\n",
       "  (lm_head): Linear(in_features=768, out_features=32, bias=True)\n",
       ")"
      ]
     },
     "execution_count": 2,
     "metadata": {},
     "output_type": "execute_result"
    }
   ],
   "source": [
    "os.environ[\"CUDA_VISIBLE_DEVICES\"] = \"0\" \n",
    "device = 'cuda' if torch.cuda.is_available() else 'cpu'\n",
    "processor = Wav2Vec2Processor.from_pretrained(\"facebook/wav2vec2-base-960h\")\n",
    "model = Wav2Vec2ForCTC.from_pretrained(\"facebook/wav2vec2-base-960h\")\n",
    "model.to(device)"
   ]
  },
  {
   "cell_type": "markdown",
   "id": "dfc58a39c8a3fcc9",
   "metadata": {
    "collapsed": false
   },
   "source": [
    "### Predict single audio"
   ]
  },
  {
   "cell_type": "code",
   "execution_count": 4,
   "id": "6620da5ac0dfd252",
   "metadata": {
    "ExecuteTime": {
     "end_time": "2024-04-27T22:46:31.110769500Z",
     "start_time": "2024-04-27T22:46:23.206335400Z"
    },
    "collapsed": false
   },
   "outputs": [
    {
     "name": "stdout",
     "output_type": "stream",
     "text": [
      "Transcription for data/train/audio/happy/0ab3b47d_nohash_0.wav: HAPPY\n"
     ]
    },
    {
     "data": {
      "text/plain": [
       "'HAPPY'"
      ]
     },
     "execution_count": 4,
     "metadata": {},
     "output_type": "execute_result"
    }
   ],
   "source": [
    "predict_single_audio(model, processor, 'data/train/audio/happy/0ab3b47d_nohash_0.wav')"
   ]
  },
  {
   "cell_type": "markdown",
   "id": "951f0c984d18542c",
   "metadata": {
    "collapsed": false
   },
   "source": [
    "# Datasets\n",
    "### Create & save datasets"
   ]
  },
  {
   "cell_type": "code",
   "execution_count": 5,
   "id": "2c0f0ed0",
   "metadata": {
    "ExecuteTime": {
     "end_time": "2024-04-28T16:42:59.116062100Z",
     "start_time": "2024-04-28T16:42:59.087061400Z"
    }
   },
   "outputs": [],
   "source": [
    "audio_dir = \"data/train/audio/\" "
   ]
  },
  {
   "cell_type": "markdown",
   "id": "f27c2504701c59d9",
   "metadata": {
    "collapsed": false
   },
   "source": [
    "#### Datasets without silence"
   ]
  },
  {
   "cell_type": "code",
   "execution_count": null,
   "id": "a0f85e7a0c18d912",
   "metadata": {
    "ExecuteTime": {
     "start_time": "2024-04-27T22:46:31.117396500Z"
    },
    "collapsed": false
   },
   "outputs": [],
   "source": [
    "audio_dir = \"data/train/audio/\" \n",
    "dataset_train = create_dataset(audio_dir, processor, 'training_list')\n",
    "dataset_train.save_to_disk('./dataset_train')"
   ]
  },
  {
   "cell_type": "code",
   "execution_count": null,
   "id": "a7e7f898",
   "metadata": {
    "ExecuteTime": {
     "end_time": "2024-04-27T22:46:31.121509100Z",
     "start_time": "2024-04-27T22:46:31.120587Z"
    }
   },
   "outputs": [],
   "source": [
    "dataset_valid = create_dataset(audio_dir, processor, 'validation_list')\n",
    "dataset_valid.save_to_disk('./dataset_valid')"
   ]
  },
  {
   "cell_type": "code",
   "execution_count": null,
   "id": "98d42200",
   "metadata": {
    "ExecuteTime": {
     "end_time": "2024-04-27T22:46:31.121509100Z",
     "start_time": "2024-04-27T22:46:31.121509100Z"
    }
   },
   "outputs": [],
   "source": [
    "dataset_test = create_dataset(audio_dir, processor, 'testing_list')\n",
    "dataset_test.save_to_disk('./dataset_test')"
   ]
  },
  {
   "cell_type": "markdown",
   "id": "7211c419309b09e3",
   "metadata": {
    "collapsed": false
   },
   "source": [
    "#### Silence detection datasets"
   ]
  },
  {
   "cell_type": "code",
   "execution_count": 3,
   "id": "e2d259601c8d73e5",
   "metadata": {
    "collapsed": false
   },
   "outputs": [],
   "source": [
    "create_silence_detection_list()\n",
    "train_test_split_silence_detection()"
   ]
  },
  {
   "cell_type": "code",
   "execution_count": 8,
   "id": "958a2eba268ad904",
   "metadata": {
    "ExecuteTime": {
     "end_time": "2024-04-28T16:43:23.394446600Z",
     "start_time": "2024-04-28T16:42:59.093064800Z"
    },
    "collapsed": false
   },
   "outputs": [
    {
     "name": "stderr",
     "output_type": "stream",
     "text": [
      "Saving the dataset (1/1 shards): 100%|██████████| 1920/1920 [00:00<00:00, 21606.84 examples/s]\n"
     ]
    }
   ],
   "source": [
    "dataset_train_silence_detection = create_dataset_silence_classification(audio_dir, processor, 'train_silence_detection_list')\n",
    "dataset_train_silence_detection.save_to_disk('./dataset_train_silence_detection')"
   ]
  },
  {
   "cell_type": "code",
   "execution_count": 9,
   "id": "6a440b58272d22af",
   "metadata": {
    "ExecuteTime": {
     "end_time": "2024-04-28T16:43:26.123887400Z",
     "start_time": "2024-04-28T16:43:23.428024200Z"
    },
    "collapsed": false
   },
   "outputs": [
    {
     "name": "stderr",
     "output_type": "stream",
     "text": [
      "Saving the dataset (1/1 shards): 100%|██████████| 480/480 [00:00<00:00, 25263.72 examples/s]\n"
     ]
    }
   ],
   "source": [
    "dataset_test_silence_detection = create_dataset_silence_classification(audio_dir, processor, 'test_silence_detection_list')\n",
    "dataset_test_silence_detection.save_to_disk('./dataset_test_silence_detection')"
   ]
  },
  {
   "cell_type": "markdown",
   "id": "b8f962fe",
   "metadata": {},
   "source": [
    "### Load datasets"
   ]
  },
  {
   "cell_type": "code",
   "execution_count": 4,
   "id": "b37a1b61",
   "metadata": {
    "ExecuteTime": {
     "end_time": "2024-04-28T00:25:45.256434300Z",
     "start_time": "2024-04-28T00:25:45.207605100Z"
    }
   },
   "outputs": [],
   "source": [
    "dataset_train = Dataset.load_from_disk(\"./dataset_train\")\n",
    "dataset_valid = Dataset.load_from_disk(\"./dataset_valid\")\n",
    "dataset_test = Dataset.load_from_disk(\"./dataset_test\")"
   ]
  },
  {
   "cell_type": "code",
   "execution_count": 3,
   "id": "85f16cdffa723f8c",
   "metadata": {
    "ExecuteTime": {
     "end_time": "2024-04-28T13:56:00.433522500Z",
     "start_time": "2024-04-28T13:55:58.238394900Z"
    },
    "collapsed": false
   },
   "outputs": [],
   "source": [
    "dataset_test_silence_detection = Dataset.load_from_disk(\"./dataset_test_silence_detection\")\n",
    "dataset_train_silence_detection = Dataset.load_from_disk(\"./dataset_train_silence_detection\")"
   ]
  },
  {
   "cell_type": "markdown",
   "id": "1d3622a63475d9b7",
   "metadata": {
    "collapsed": false
   },
   "source": [
    "# First approach: classification of silence, classification of other classes, relabeling unnecessary classes as unknown\n",
    "## Silence detection - binary classification model"
   ]
  },
  {
   "cell_type": "code",
   "execution_count": 7,
   "id": "45fd5500e760a47",
   "metadata": {
    "collapsed": false,
    "ExecuteTime": {
     "end_time": "2024-04-29T08:42:26.324862Z",
     "start_time": "2024-04-29T08:42:26.279085900Z"
    }
   },
   "outputs": [],
   "source": [
    "training_args = TrainingArguments(\n",
    "    output_dir=\"./output_dir\",\n",
    "    per_device_train_batch_size=16,\n",
    "    num_train_epochs=10,\n",
    "    logging_dir=\"./logs\",\n",
    "    save_strategy='epoch', \n",
    "    evaluation_strategy='epoch',\n",
    ")\n",
    "\n",
    "def compute_metrics(pred):\n",
    "    labels = pred.label_ids\n",
    "    preds = pred.predictions.argmax(-1)\n",
    "\n",
    "    labels = [list(item[0]) for item in labels]\n",
    "    if all(isinstance(i, list) for i in preds):\n",
    "        preds = [item for sublist in preds for item in sublist]\n",
    "    pred_transcriptions = processor.batch_decode(preds)\n",
    "    true_transcriptions = processor.batch_decode(labels)\n",
    "\n",
    "    correct_predictions = sum([true == pred for true, pred in zip(true_transcriptions, pred_transcriptions)])\n",
    "    accuracy = correct_predictions / len(true_transcriptions)\n",
    "\n",
    "    pred_transcriptions_modification = ['SOUND' if len(pred) > 0 else '' for pred in pred_transcriptions]\n",
    "    correct_predictions_modification = sum([true == pred for true, pred in zip(true_transcriptions, pred_transcriptions_modification)])\n",
    "    accuracy_modification = correct_predictions_modification / len(true_transcriptions)\n",
    "    return {\"accuracy\": accuracy, 'accuracy_modification': accuracy_modification}\n",
    "\n",
    "\n",
    "trainer = Trainer(\n",
    "    model=model,\n",
    "    args=training_args,\n",
    "    train_dataset=dataset_train_silence_detection,\n",
    "    eval_dataset=dataset_test_silence_detection,\n",
    "    tokenizer=processor,\n",
    "    compute_metrics=compute_metrics,\n",
    "    callbacks=[SaveMetricsCallbackSilence(dataset_test_silence_detection)],\n",
    ")\n",
    "\n",
    "trainer.train()\n",
    "trainer.save_model(f\"model_silence_detection\")"
   ]
  },
  {
   "cell_type": "code",
   "execution_count": 6,
   "outputs": [
    {
     "data": {
      "text/plain": "<Figure size 800x600 with 1 Axes>",
      "image/png": "[encoded data removed]"
     },
     "metadata": {},
     "output_type": "display_data"
    }
   ],
   "source": [
    "vis_silence_detection_accuracy('data_for_vis/accuracy_silence_detection_.csv')"
   ],
   "metadata": {
    "collapsed": false,
    "ExecuteTime": {
     "end_time": "2024-04-29T08:42:13.380206900Z",
     "start_time": "2024-04-29T08:42:13.012009700Z"
    }
   },
   "id": "ad8e8df8c354794c"
  },
  {
   "cell_type": "markdown",
   "source": [
    "### Silence detection on the test data "
   ],
   "metadata": {
    "collapsed": false
   },
   "id": "12ac70382d76570d"
  },
  {
   "cell_type": "code",
   "execution_count": 5,
   "id": "9a766e0cc7af0c9c",
   "metadata": {
    "collapsed": false
   },
   "outputs": [
    {
     "name": "stdout",
     "output_type": "stream",
     "text": [
      "Accuracy of silence detection: 99.8756390769656%\n"
     ]
    }
   ],
   "source": [
    "model_silence_detection = Wav2Vec2ForCTC.from_pretrained(\"model_silence_detection\")\n",
    "processor = Wav2Vec2Processor.from_pretrained(\"facebook/wav2vec2-base-960h\")\n",
    "audio_dir = \"./data/train/audio/\"\n",
    "\n",
    "with open(\"./data/train/testing_with_silence_list.txt\", \"r\") as file:\n",
    "    testing_audio_files = [line.strip() for line in file]\n",
    "    \n",
    "correct_silence_predictions = 0\n",
    "total_files = len(testing_audio_files)\n",
    "\n",
    "with open('./data/train/testing_non_silent_files.txt', 'w') as f:\n",
    "    for audio_file in testing_audio_files:\n",
    "        audio, rate = librosa.load(os.path.join(audio_dir, audio_file), sr=16000)\n",
    "        inputs = processor(audio, return_tensors=\"pt\", padding=True, sampling_rate=16000)\n",
    "        with torch.no_grad():\n",
    "            logits = model_silence_detection(inputs.input_values).logits\n",
    "\n",
    "        predicted_ids = torch.argmax(logits, dim=-1)\n",
    "        transcription = processor.decode(predicted_ids[0])\n",
    "        if len(transcription)>0:\n",
    "            predicted_label = 'sound'\n",
    "            f.write(f'{audio_file}\\n')\n",
    "        else:\n",
    "            predicted_label = 'silence'\n",
    "        \n",
    "        true_label = audio_file.split('/')[0]\n",
    "        if true_label == 'silence':\n",
    "            if predicted_label == 'silence':\n",
    "                correct_silence_predictions += 1\n",
    "        else:\n",
    "            if predicted_label != 'silence':\n",
    "                correct_silence_predictions += 1\n",
    "\n",
    "accuracy = correct_silence_predictions / total_files\n",
    "print(f'Accuracy of silence detection: {accuracy * 100}%')"
   ]
  },
  {
   "cell_type": "markdown",
   "source": [
    "## Speech classification\n",
    "### Original model inference"
   ],
   "metadata": {
    "collapsed": false
   },
   "id": "7bfeeba35e13ef0a"
  },
  {
   "cell_type": "code",
   "execution_count": 12,
   "outputs": [
    {
     "ename": "NameError",
     "evalue": "name 'dataset_valid' is not defined",
     "output_type": "error",
     "traceback": [
      "\u001B[1;31m---------------------------------------------------------------------------\u001B[0m",
      "\u001B[1;31mNameError\u001B[0m                                 Traceback (most recent call last)",
      "Cell \u001B[1;32mIn[12], line 1\u001B[0m\n\u001B[1;32m----> 1\u001B[0m predict_on_dataset(model, processor, \u001B[43mdataset_valid\u001B[49m)\n",
      "\u001B[1;31mNameError\u001B[0m: name 'dataset_valid' is not defined"
     ]
    }
   ],
   "source": [
    "predict_on_dataset(model, processor, dataset_test)"
   ],
   "metadata": {
    "collapsed": false,
    "ExecuteTime": {
     "start_time": "2024-04-28T00:25:36.629402500Z"
    }
   },
   "id": "622a0d027c9aa327"
  },
  {
   "cell_type": "markdown",
   "source": [
    "### Fine-tune & adjust speech classification model"
   ],
   "metadata": {
    "collapsed": false
   },
   "id": "bf09f9e23abd1861"
  },
  {
   "cell_type": "code",
   "execution_count": 6,
   "outputs": [
    {
     "name": "stderr",
     "output_type": "stream",
     "text": [
      "Some weights of the model checkpoint at facebook/wav2vec2-base-960h were not used when initializing Wav2Vec2ForCTC: ['wav2vec2.encoder.pos_conv_embed.conv.weight_g', 'wav2vec2.encoder.pos_conv_embed.conv.weight_v']\n",
      "- This IS expected if you are initializing Wav2Vec2ForCTC from the checkpoint of a model trained on another task or with another architecture (e.g. initializing a BertForSequenceClassification model from a BertForPreTraining model).\n",
      "- This IS NOT expected if you are initializing Wav2Vec2ForCTC from the checkpoint of a model that you expect to be exactly identical (initializing a BertForSequenceClassification model from a BertForSequenceClassification model).\n",
      "Some weights of Wav2Vec2ForCTC were not initialized from the model checkpoint at facebook/wav2vec2-base-960h and are newly initialized: ['wav2vec2.encoder.pos_conv_embed.conv.parametrizations.weight.original0', 'wav2vec2.encoder.pos_conv_embed.conv.parametrizations.weight.original1', 'wav2vec2.masked_spec_embed']\n",
      "You should probably TRAIN this model on a down-stream task to be able to use it for predictions and inference.\n"
     ]
    },
    {
     "data": {
      "text/plain": [
       "Wav2Vec2ForCTC(\n",
       "  (wav2vec2): Wav2Vec2Model(\n",
       "    (feature_extractor): Wav2Vec2FeatureEncoder(\n",
       "      (conv_layers): ModuleList(\n",
       "        (0): Wav2Vec2GroupNormConvLayer(\n",
       "          (conv): Conv1d(1, 512, kernel_size=(10,), stride=(5,), bias=False)\n",
       "          (activation): GELUActivation()\n",
       "          (layer_norm): GroupNorm(512, 512, eps=1e-05, affine=True)\n",
       "        )\n",
       "        (1-4): 4 x Wav2Vec2NoLayerNormConvLayer(\n",
       "          (conv): Conv1d(512, 512, kernel_size=(3,), stride=(2,), bias=False)\n",
       "          (activation): GELUActivation()\n",
       "        )\n",
       "        (5-6): 2 x Wav2Vec2NoLayerNormConvLayer(\n",
       "          (conv): Conv1d(512, 512, kernel_size=(2,), stride=(2,), bias=False)\n",
       "          (activation): GELUActivation()\n",
       "        )\n",
       "      )\n",
       "    )\n",
       "    (feature_projection): Wav2Vec2FeatureProjection(\n",
       "      (layer_norm): LayerNorm((512,), eps=1e-05, elementwise_affine=True)\n",
       "      (projection): Linear(in_features=512, out_features=768, bias=True)\n",
       "      (dropout): Dropout(p=0.1, inplace=False)\n",
       "    )\n",
       "    (encoder): Wav2Vec2Encoder(\n",
       "      (pos_conv_embed): Wav2Vec2PositionalConvEmbedding(\n",
       "        (conv): ParametrizedConv1d(\n",
       "          768, 768, kernel_size=(128,), stride=(1,), padding=(64,), groups=16\n",
       "          (parametrizations): ModuleDict(\n",
       "            (weight): ParametrizationList(\n",
       "              (0): _WeightNorm()\n",
       "            )\n",
       "          )\n",
       "        )\n",
       "        (padding): Wav2Vec2SamePadLayer()\n",
       "        (activation): GELUActivation()\n",
       "      )\n",
       "      (layer_norm): LayerNorm((768,), eps=1e-05, elementwise_affine=True)\n",
       "      (dropout): Dropout(p=0.1, inplace=False)\n",
       "      (layers): ModuleList(\n",
       "        (0-11): 12 x Wav2Vec2EncoderLayer(\n",
       "          (attention): Wav2Vec2Attention(\n",
       "            (k_proj): Linear(in_features=768, out_features=768, bias=True)\n",
       "            (v_proj): Linear(in_features=768, out_features=768, bias=True)\n",
       "            (q_proj): Linear(in_features=768, out_features=768, bias=True)\n",
       "            (out_proj): Linear(in_features=768, out_features=768, bias=True)\n",
       "          )\n",
       "          (dropout): Dropout(p=0.1, inplace=False)\n",
       "          (layer_norm): LayerNorm((768,), eps=1e-05, elementwise_affine=True)\n",
       "          (feed_forward): Wav2Vec2FeedForward(\n",
       "            (intermediate_dropout): Dropout(p=0.1, inplace=False)\n",
       "            (intermediate_dense): Linear(in_features=768, out_features=3072, bias=True)\n",
       "            (intermediate_act_fn): GELUActivation()\n",
       "            (output_dense): Linear(in_features=3072, out_features=768, bias=True)\n",
       "            (output_dropout): Dropout(p=0.1, inplace=False)\n",
       "          )\n",
       "          (final_layer_norm): LayerNorm((768,), eps=1e-05, elementwise_affine=True)\n",
       "        )\n",
       "      )\n",
       "    )\n",
       "  )\n",
       "  (dropout): Dropout(p=0.1, inplace=False)\n",
       "  (lm_head): Linear(in_features=768, out_features=32, bias=True)\n",
       ")"
      ]
     },
     "execution_count": 6,
     "metadata": {},
     "output_type": "execute_result"
    }
   ],
   "source": [
    "processor = Wav2Vec2Processor.from_pretrained(\"facebook/wav2vec2-base-960h\")\n",
    "model = Wav2Vec2ForCTC.from_pretrained(\"facebook/wav2vec2-base-960h\")\n",
    "model.freeze_feature_extractor()\n",
    "model.to(device)"
   ],
   "metadata": {
    "collapsed": false,
    "ExecuteTime": {
     "start_time": "2024-04-27T22:30:44.809109500Z"
    }
   },
   "id": "e40d963c1b0b6e60"
  },
  {
   "cell_type": "code",
   "execution_count": 5,
   "outputs": [],
   "source": [
    "shutil.rmtree('./logs', ignore_errors=True)"
   ],
   "metadata": {
    "collapsed": false
   },
   "id": "22a01eda"
  },
  {
   "cell_type": "code",
   "execution_count": 6,
   "outputs": [],
   "source": [
    "def train_adjusted_model(lr):\n",
    "    training_args = TrainingArguments(\n",
    "        output_dir=\"./output_dir\",\n",
    "        per_device_train_batch_size=16,\n",
    "        num_train_epochs=20,\n",
    "        logging_dir=\"./logs\",\n",
    "        save_strategy='epoch', \n",
    "        evaluation_strategy='epoch',\n",
    "        learning_rate=lr\n",
    "    )\n",
    "\n",
    "    def compute_metrics(pred):\n",
    "        labels = pred.label_ids\n",
    "        preds = pred.predictions.argmax(-1)\n",
    "\n",
    "        labels = [list(item[0]) for item in labels]\n",
    "        if all(isinstance(i, list) for i in preds):\n",
    "            preds = [item for sublist in preds for item in sublist]\n",
    "        pred_transcriptions = processor.batch_decode(preds)\n",
    "        true_transcriptions = processor.batch_decode(labels)\n",
    "        wer_score = wer(true_transcriptions, pred_transcriptions)\n",
    "        cer_score = cer(true_transcriptions, pred_transcriptions)\n",
    "\n",
    "        correct_predictions = sum([true == pred for true, pred in zip(true_transcriptions, pred_transcriptions)])\n",
    "        total_predictions = len(true_transcriptions)\n",
    "        accuracy = correct_predictions / total_predictions\n",
    "\n",
    "        available_labels = get_available_labels('data/train/audio/')\n",
    "        cer_score_closest, accuracy_closest = compute_metrics_with_closest_label(available_labels, pred_transcriptions, true_transcriptions)\n",
    "\n",
    "        return {\"wer\": wer_score, \"accuracy\": accuracy, \"cer\": cer_score, \"accuracy_closest\": accuracy_closest, \"cer_closest\": cer_score_closest}\n",
    "\n",
    "\n",
    "    trainer = Trainer(\n",
    "        model=model,\n",
    "        args=training_args,\n",
    "        train_dataset=dataset_train,\n",
    "        eval_dataset=dataset_valid,\n",
    "        tokenizer=processor,\n",
    "        compute_metrics=compute_metrics,\n",
    "        callbacks=[SaveMetricsCallback(dataset_valid, lr)],\n",
    "    )\n",
    "\n",
    "    trainer.train()\n",
    "    trainer.save_model(f\"model_lr_{lr}\")"
   ],
   "metadata": {
    "collapsed": false
   },
   "id": "124cf111"
  },
  {
   "cell_type": "code",
   "execution_count": 7,
   "outputs": [],
   "source": [
    "# lrs = [0.0001, 0.000005, 0.00001, 0.000005]\n",
    "lrs = [0.0001, 0.000005]\n",
    "for lr in lrs:\n",
    "    train_adjusted_model(lr)"
   ],
   "metadata": {
    "collapsed": false
   },
   "id": "24f67f1e"
  },
  {
   "cell_type": "code",
   "execution_count": 3,
   "outputs": [
    {
     "data": {
      "text/plain": "<Figure size 1000x400 with 2 Axes>",
      "image/png": "[encoded data removed]"
     },
     "metadata": {},
     "output_type": "display_data"
    }
   ],
   "source": [
    "vis_accuracy_cer(\"data_for_vis/validation_metrics_5e-05.csv\", \"data_for_vis/validation_metrics_0.0001.csv\")"
   ],
   "metadata": {
    "collapsed": false,
    "ExecuteTime": {
     "end_time": "2024-04-29T08:37:46.666484200Z",
     "start_time": "2024-04-29T08:37:45.112610300Z"
    }
   },
   "id": "98bf24785702023"
  },
  {
   "cell_type": "markdown",
   "source": [
    "### Prediction on test data "
   ],
   "metadata": {
    "collapsed": false
   },
   "id": "bf50656ad83df60d"
  },
  {
   "cell_type": "code",
   "execution_count": 22,
   "id": "d16995e4",
   "metadata": {},
   "outputs": [
    {
     "name": "stdout",
     "output_type": "stream",
     "text": [
      "Accuracy of speech classification: 98.40316437152066%\n",
      "CER of speech classification: 1.272829377868933%\n"
     ]
    }
   ],
   "source": [
    "model_speech_classification = Wav2Vec2ForCTC.from_pretrained(\"model_lr_0.0001\")\n",
    "processor = Wav2Vec2Processor.from_pretrained(\"facebook/wav2vec2-base-960h\")\n",
    "audio_dir = \"./data/train/audio/\"\n",
    "available_labels = get_available_labels(\"./data/train/audio/\")\n",
    "\n",
    "with open(\"./data/train/testing_non_silent_files.txt\", \"r\") as file:\n",
    "    testing_speech_files = [line.strip() for line in file]\n",
    "    \n",
    "correct_silence_predictions = 0\n",
    "total_cer = 0\n",
    "total_cer_org = 0\n",
    "correct_speech_predictions = 0\n",
    "correct_speech_predictions_org = 0\n",
    "\n",
    "with open('./data/train/testing_classification.txt', 'w') as f:\n",
    "    for audio_file in testing_speech_files:\n",
    "        audio, rate = librosa.load(os.path.join(audio_dir, audio_file), sr=16000)\n",
    "        inputs = processor(audio, return_tensors=\"pt\", padding=True, sampling_rate=16000)\n",
    "        with torch.no_grad():\n",
    "            logits = model_speech_classification(inputs.input_values).logits\n",
    "\n",
    "        predicted_ids = torch.argmax(logits, dim=-1)\n",
    "        transcription = processor.decode(predicted_ids[0])\n",
    "\n",
    "        true_label = audio_file.split('/')[0]\n",
    "        closest_label = min(available_labels, key=lambda l: Levenshtein.distance(l, transcription)).lower()\n",
    "        if closest_label == true_label:\n",
    "            correct_speech_predictions += 1\n",
    "        total_cer += cer(true_label, closest_label)\n",
    "        if transcription == true_label:\n",
    "            correct_speech_predictions_org += 1\n",
    "        total_cer_org += cer(true_label, transcription)\n",
    "        f.write(f'{audio_file},{closest_label}\\n')\n",
    "\n",
    "accuracy_speech = correct_speech_predictions / len(testing_speech_files)\n",
    "my_cer = total_cer / len(testing_speech_files)\n",
    "print(f'Accuracy of speech classification: {accuracy_speech * 100}%')\n",
    "print(f'CER of speech classification: {my_cer * 100}%')\n",
    "print(f'Accuracy of speech classification org: {correct_speech_predictions_org / len(testing_speech_files) * 100}%')\n",
    "print(f'CER of speech classification org : {total_cer_org / len(testing_speech_files) * 100}%')"
   ]
  },
  {
   "cell_type": "markdown",
   "id": "30917e92",
   "metadata": {},
   "source": [
    "## Prediction on competition dataset"
   ]
  },
  {
   "cell_type": "code",
   "execution_count": 23,
   "id": "34671b7b",
   "metadata": {},
   "outputs": [],
   "source": [
    "model_silence_detection = Wav2Vec2ForCTC.from_pretrained(\"model_silence_detection\")\n",
    "model_speech_classification = Wav2Vec2ForCTC.from_pretrained(\"model_lr_0.0001\")\n",
    "processor = Wav2Vec2Processor.from_pretrained(\"facebook/wav2vec2-base-960h\")\n",
    "audio_dir = \"./data/test/audio/\"\n",
    "\n",
    "\n",
    "def predict_for_competition_approach_1(model_silence_detection, model_speech_classification, processor, audio_dir):\n",
    "    available_labels = get_available_labels(audio_dir)\n",
    "    labels_to_classify = ['yes', 'no', 'up', 'down', 'left', 'right', 'on', 'off', 'stop', 'go']\n",
    "    with open('./data/test/prediction_approach_1.csv', 'w') as f:\n",
    "        f.write(f'fname,label\\n')\n",
    "        for audio_file in os.listdir(\"./data/test/audio\"):\n",
    "            audio, rate = librosa.load(os.path.join(audio_dir, audio_file), sr=16000)\n",
    "            inputs = processor(audio, return_tensors=\"pt\", padding=True, sampling_rate=16000)\n",
    "            with torch.no_grad():\n",
    "                logits = model_silence_detection(inputs.input_values).logits\n",
    "    \n",
    "            predicted_ids = torch.argmax(logits, dim=-1)\n",
    "            transcription = processor.decode(predicted_ids[0])\n",
    "            if len(transcription)>0:\n",
    "                with torch.no_grad():\n",
    "                    logits = model_speech_classification(inputs.input_values).logits\n",
    "    \n",
    "                predicted_ids = torch.argmax(logits, dim=-1)\n",
    "                transcription = processor.decode(predicted_ids[0])\n",
    "                closest_label = min(available_labels, key=lambda l: Levenshtein.distance(l, transcription)).lower()\n",
    "                if closest_label in labels_to_classify:\n",
    "                    f.write(f'{audio_file},{closest_label}\\n')\n",
    "                else:\n",
    "                    f.write(f'{audio_file},unknown\\n')\n",
    "            else:\n",
    "                f.write(f'{audio_file},silence\\n')"
   ]
  },
  {
   "cell_type": "markdown",
   "id": "33a767468f56a61",
   "metadata": {
    "collapsed": false
   },
   "source": [
    "# Second approach: classification with silence as class"
   ]
  },
  {
   "cell_type": "code",
   "execution_count": null,
   "id": "11b6b0c7",
   "metadata": {},
   "outputs": [],
   "source": []
  },
  {
   "cell_type": "code",
   "execution_count": null,
   "id": "26c9e58f",
   "metadata": {},
   "outputs": [],
   "source": []
  },
  {
   "cell_type": "code",
   "execution_count": null,
   "id": "1ed3af41",
   "metadata": {},
   "outputs": [],
   "source": [
    "import pandas as pd\n",
    "import matplotlib.pyplot as plt\n",
    "\n"
   ]
  },
  {
   "cell_type": "code",
   "execution_count": null,
   "id": "bfd0632d",
   "metadata": {},
   "outputs": [],
   "source": []
  },
  {
   "cell_type": "code",
   "execution_count": null,
   "id": "147083533a572146",
   "metadata": {
    "collapsed": false
   },
   "outputs": [],
   "source": []
  }
 ],
 "metadata": {
  "kernelspec": {
   "display_name": "Python 3",
   "language": "python",
   "name": "python3"
  },
  "language_info": {
   "codemirror_mode": {
    "name": "ipython",
    "version": 3
   },
   "file_extension": ".py",
   "mimetype": "text/x-python",
   "name": "python",
   "nbconvert_exporter": "python",
   "pygments_lexer": "ipython3",
   "version": "3.11.9"
  }
 },
 "nbformat": 4,
 "nbformat_minor": 5
}
